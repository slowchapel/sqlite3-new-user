{
 "cells": [
  {
   "cell_type": "code",
   "execution_count": 1,
   "metadata": {},
   "outputs": [],
   "source": [
    "import sqlite3"
   ]
  },
  {
   "cell_type": "code",
   "execution_count": 2,
   "metadata": {},
   "outputs": [
    {
     "name": "stdout",
     "output_type": "stream",
     "text": [
      "[(1, 'test_User', 'Joe', 'Stevens', '1234')]\n"
     ]
    }
   ],
   "source": [
    "with sqlite3.connect(\"register.db\") as db:\n",
    "    cursor = db.cursor()\n",
    "\n",
    "cursor.execute(\"\"\"\n",
    "CREATE TABLE IF NOT EXISTS user(\n",
    "userID INTEGER PRIMARY KEY, \n",
    "email VARCHAR(20) NOT NULL,\n",
    "firstname VARCHAR(20) NOT NULL,\n",
    "surname VARCHAR(20) NOT NULL,\n",
    "password VARCHAR(20) NOT NULL);\n",
    "\"\"\")\n",
    "\n",
    "cursor.execute(\"\"\"\n",
    "INSERT INTO user(email,firstname,surname,password)\n",
    "VALUES(\"test_User\",\"Joe\",\"Stevens\",\"1234\")\n",
    "\"\"\")\n",
    "\n",
    "db.commit()\n",
    "\n",
    "cursor.execute(\"SELECT * From user\")\n",
    "print(cursor.fetchall())\n"
   ]
  },
  {
   "cell_type": "code",
   "execution_count": null,
   "metadata": {},
   "outputs": [],
   "source": []
  }
 ],
 "metadata": {
  "kernelspec": {
   "display_name": "Python 3",
   "language": "python",
   "name": "python3"
  },
  "language_info": {
   "codemirror_mode": {
    "name": "ipython",
    "version": 3
   },
   "file_extension": ".py",
   "mimetype": "text/x-python",
   "name": "python",
   "nbconvert_exporter": "python",
   "pygments_lexer": "ipython3",
   "version": "3.7.3"
  }
 },
 "nbformat": 4,
 "nbformat_minor": 2
}

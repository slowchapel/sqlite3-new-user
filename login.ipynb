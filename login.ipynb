{
 "cells": [
  {
   "cell_type": "code",
   "execution_count": 1,
   "metadata": {},
   "outputs": [],
   "source": [
    "import sqlite3 \n",
    "\n",
    "def login():\n",
    "    for i in range(3):\n",
    "        email = input(\"Enter email: \")\n",
    "        password = input(\"Enter password: \")\n",
    "            \n",
    "        with sqlite3.connect(\"register.db\") as db:\n",
    "            cursor = db.cursor()\n",
    "        find_user = (\"SELECT * FROM user WHERE email = ? AND password = ?\")\n",
    "        cursor.execute(find_user,[(email), (password)])\n",
    "        results = cursor.fetchall()\n",
    "        \n",
    "        if results:\n",
    "            for i in results:\n",
    "                print(\"Welcome  \"+i[2])\n",
    "                \n",
    "                break\n",
    "                \n",
    "        else:\n",
    "            print(\"email and password not recognised\")\n",
    "            again = input(\"Do you want to try again? (y/n): \")\n",
    "            if again.lower() == \"n\":\n",
    "                print(\"Goodbye\")\n",
    "                time.sleep(1)\n",
    "                \n",
    "                break\n",
    "                \n",
    "            "
   ]
  },
  {
   "cell_type": "code",
   "execution_count": null,
   "metadata": {},
   "outputs": [
    {
     "name": "stdout",
     "output_type": "stream",
     "text": [
      "Welcome! \n",
      "\n",
      "        1 - New User\n",
      "        2 - Sign in \n",
      "        3 - Exit \n",
      "2\n",
      "Enter email: slowchapel@gmail.com\n",
      "Enter password: 1234\n",
      "Welcome  Jordan\n"
     ]
    }
   ],
   "source": [
    "def newUser():\n",
    "    found = 0\n",
    "    while found ==0:\n",
    "        email = input(\"Please enter email: \")\n",
    "        with sqlite3.connect(\"register.db\") as db:\n",
    "            cursor = db.cursor()\n",
    "        findUser = (\"Select * FROM user WHERE email = ?\")\n",
    "        cursor.execute(findUser,[(email)])\n",
    "        \n",
    "        if cursor.fetchall():\n",
    "            print(\"Email already exists, try again.\")\n",
    "        else:\n",
    "            found = 1\n",
    "            \n",
    "    firstname = input(\"Enter your first name: \")\n",
    "    surname = input(\"Enter your last name: \")\n",
    "    password = input(\"Please enter your password: \")\n",
    "    password1 = input(\"Please reenter your password: \")\n",
    "    while password !=password1:\n",
    "        print(\"Password didn't match, try again\")\n",
    "        password = input(\"Please enter your password: \")\n",
    "        password1 = input(\"Please reenter your password: \")\n",
    "    insertData = \"\"\"INSERT INTO user(email,firstname,surname,password)\n",
    "    VALUES(?,?,?,?)\"\"\"\n",
    "    cursor.execute(insertData,[(email),(firstname),(surname),(password)])\n",
    "    db.commit() \n",
    "\n",
    "def menu():\n",
    "    while True:\n",
    "        print(\"Welcome! \")\n",
    "        menu =(\"\"\"\n",
    "        1 - New User\n",
    "        2 - Sign in \n",
    "        3 - Exit \\n\"\"\")\n",
    "        \n",
    "        userChoice = input(menu)\n",
    "       \n",
    "        if userChoice == \"1\":\n",
    "            newUser()\n",
    "            \n",
    "        elif userChoice == \"2\":\n",
    "            login()\n",
    "            \n",
    "        elif userChoice == \"3\":\n",
    "            print(\"Goodbye\")\n",
    "            sys.exit()\n",
    "        \n",
    "        else:\n",
    "            print(\"Not recognised: \")\n",
    "            \n",
    "menu()\n",
    "            \n",
    "            "
   ]
  },
  {
   "cell_type": "code",
   "execution_count": null,
   "metadata": {},
   "outputs": [],
   "source": []
  }
 ],
 "metadata": {
  "kernelspec": {
   "display_name": "Python 3",
   "language": "python",
   "name": "python3"
  },
  "language_info": {
   "codemirror_mode": {
    "name": "ipython",
    "version": 3
   },
   "file_extension": ".py",
   "mimetype": "text/x-python",
   "name": "python",
   "nbconvert_exporter": "python",
   "pygments_lexer": "ipython3",
   "version": "3.7.3"
  }
 },
 "nbformat": 4,
 "nbformat_minor": 2
}
